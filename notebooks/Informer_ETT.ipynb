{
 "cells": [
  {
   "cell_type": "markdown",
   "metadata": {
    "id": "5IM6CZzW_CH0"
   },
   "source": [
    "# Informer"
   ]
  },
  {
   "cell_type": "markdown",
   "metadata": {
    "id": "kdaIHYx4_ECL"
   },
   "source": [
    "## Download code and dataset"
   ]
  },
  {
   "cell_type": "code",
   "execution_count": 1,
   "metadata": {
    "colab": {
     "base_uri": "https://localhost:8080/"
    },
    "id": "SA_i2gbl-rn-",
    "outputId": "e89095b9-ce2c-44ee-d7f6-ab7ee0a35bc9"
   },
   "outputs": [
    {
     "name": "stdout",
     "output_type": "stream",
     "text": [
      "Cloning into 'Informer2020'...\n",
      "remote: Enumerating objects: 576, done.\u001b[K\n",
      "remote: Counting objects: 100% (3/3), done.\u001b[K\n",
      "remote: Compressing objects: 100% (3/3), done.\u001b[K\n",
      "remote: Total 576 (delta 0), reused 2 (delta 0), pack-reused 573\u001b[K\n",
      "Receiving objects: 100% (576/576), 6.49 MiB | 13.61 MiB/s, done.\n",
      "Resolving deltas: 100% (328/328), done.\n",
      "Cloning into 'ETDataset'...\n",
      "remote: Enumerating objects: 187, done.\u001b[K\n",
      "remote: Counting objects: 100% (28/28), done.\u001b[K\n",
      "remote: Compressing objects: 100% (8/8), done.\u001b[K\n",
      "remote: Total 187 (delta 25), reused 20 (delta 20), pack-reused 159\u001b[K\n",
      "Receiving objects: 100% (187/187), 3.86 MiB | 8.77 MiB/s, done.\n",
      "Resolving deltas: 100% (62/62), done.\n",
      "ETDataset  Informer2020  fdd-defense.zip  myInformer.ipynb  shares\n",
      "ETTh1.csv  data\t\t fgsm.ipynb\t  quick-start\n"
     ]
    }
   ],
   "source": [
    "# !git clone https://github.com/zhouhaoyi/Informer2020.git\n",
    "# !git clone https://github.com/zhouhaoyi/ETDataset.git\n",
    "# !ls"
   ]
  },
  {
   "cell_type": "code",
   "execution_count": 37,
   "metadata": {
    "id": "b5GFng7v7Eq0"
   },
   "outputs": [],
   "source": [
    "import sys\n",
    "if not 'Informer2020' in sys.path:\n",
    "    sys.path += ['Informer2020']"
   ]
  },
  {
   "cell_type": "code",
   "execution_count": 3,
   "metadata": {
    "colab": {
     "base_uri": "https://localhost:8080/"
    },
    "id": "YW9TS6jp_YXc",
    "outputId": "88419096-f493-4d41-d6a6-1787bef71896"
   },
   "outputs": [],
   "source": [
    "# !pip install -r ./Informer2020/requirements.txt"
   ]
  },
  {
   "cell_type": "markdown",
   "metadata": {
    "id": "rIjZdN5e_SWe"
   },
   "source": [
    "## Experiments: Train and Test"
   ]
  },
  {
   "cell_type": "code",
   "execution_count": 38,
   "metadata": {
    "id": "RPdt-Kwc_RRZ"
   },
   "outputs": [],
   "source": [
    "from utils.tools import dotdict\n",
    "from exp.exp_informer import Exp_Informer\n",
    "import torch"
   ]
  },
  {
   "cell_type": "code",
   "execution_count": 49,
   "metadata": {
    "id": "6mx2dnwY9dWi"
   },
   "outputs": [],
   "source": [
    "args = dotdict()\n",
    "\n",
    "args.model = 'informer' # model of experiment, options: [informer, informerstack, informerlight(TBD)]\n",
    "\n",
    "args.data = 'ETTh1' # data\n",
    "args.root_path = './' # root path of data file\n",
    "args.data_path = 'ETTh1.csv' # data file\n",
    "\n",
    "############################## ### #\n",
    "args.features = 'MS' # forecasting task, options:[M, S, MS]; M:multivariate predict multivariate, S:univariate predict univariate, MS:multivariate predict univariate\n",
    "args.target = 'OT' # target feature in S or MS task\n",
    "args.freq = 'h' # freq for time features encoding, options:[s:secondly, t:minutely, h:hourly, d:daily, b:business days, w:weekly, m:monthly], you can also use more detailed freq like 15min or 3h\n",
    "args.checkpoints = './informer_checkpoints' # location of model checkpoints\n",
    "\n",
    "args.seq_len = 96 # input sequence length of Informer encoder №№№№№№№№№№\n",
    "args.label_len = 48 # start token length of Informer decoder\n",
    "args.pred_len = 24 # prediction sequence length  №№№№№№№№№№№№№№№№№№№№№№№№№№\n",
    "# args.seq_len = 96 # input sequence length of Informer encoder №№№№№№№№№№\n",
    "# args.label_len = 48 # start token length of Informer decoder\n",
    "# args.pred_len = 24 # prediction sequence length  №№№№№№№№№№№№№№№№№№№№№№№№№№\n",
    "# Informer decoder input: concat[start token series(label_len), zero padding series(pred_len)]\n",
    "\n",
    "args.enc_in = 7 # encoder input size\n",
    "args.dec_in = 7 # decoder input size\n",
    "args.c_out = 7 # output size\n",
    "args.factor = 5 # probsparse attn factor\n",
    "args.d_model = 512 # dimension of model\n",
    "args.n_heads = 8 # num of heads\n",
    "args.e_layers = 2 # num of encoder layers\n",
    "args.d_layers = 1 # num of decoder layers\n",
    "args.d_ff = 2048 # dimension of fcn in model\n",
    "args.dropout = 0.05 # dropout\n",
    "args.attn = 'prob' # attention used in encoder, options:[prob, full]\n",
    "args.embed = 'timeF' # time features encoding, options:[timeF, fixed, learned]\n",
    "args.activation = 'gelu' # activation\n",
    "args.distil = True # whether to use distilling in encoder\n",
    "args.output_attention = False # whether to output attention in ecoder\n",
    "args.mix = True\n",
    "args.padding = 0\n",
    "args.freq = 'h'\n",
    "\n",
    "\n",
    "# args.inverse = True\n",
    "\n",
    "args.batch_size = 32\n",
    "args.learning_rate = 0.0001\n",
    "args.loss = 'mse'\n",
    "args.lradj = 'type1'\n",
    "args.use_amp = False # whether to use automatic mixed precision training\n",
    "\n",
    "args.num_workers = 0\n",
    "args.itr = 1\n",
    "args.train_epochs = 10  ###############################################################\n",
    "args.patience = 3\n",
    "args.des = 'exp'\n",
    "\n",
    "args.use_gpu = True if torch.cuda.is_available() else False\n",
    "args.gpu = 0\n",
    "\n",
    "args.use_multi_gpu = False\n",
    "args.devices = '0,1,2,3'\n"
   ]
  },
  {
   "cell_type": "code",
   "execution_count": 50,
   "metadata": {
    "id": "k_BCYODAwKl9"
   },
   "outputs": [],
   "source": [
    "args.use_gpu = True if torch.cuda.is_available() and args.use_gpu else False\n",
    "\n",
    "if args.use_gpu and args.use_multi_gpu:\n",
    "    args.devices = args.devices.replace(' ','')\n",
    "    device_ids = args.devices.split(',')\n",
    "    args.device_ids = [int(id_) for id_ in device_ids]\n",
    "    args.gpu = args.device_ids[0]"
   ]
  },
  {
   "cell_type": "code",
   "execution_count": 51,
   "metadata": {
    "id": "53o3pZ809p-a"
   },
   "outputs": [],
   "source": [
    "# Set augments by using data name\n",
    "data_parser = {\n",
    "    'ETTh1':{'data':'ETTh1.csv','T':'OT','M':[7,7,7],'S':[1,1,1],'MS':[7,7,1]},\n",
    "    'WTH':{'data':'WTH.csv','T':'WetBulbCelsius','M':[7,7,7],'S':[1,1,1],'MS':[12,12,1]},\n",
    "    'ETTm1':{'data':'ETTm1.csv','T':'OT','M':[7,7,7],'S':[1,1,1],'MS':[7,7,1]},\n",
    "    'ETTm2':{'data':'ETTm2.csv','T':'OT','M':[7,7,7],'S':[1,1,1],'MS':[7,7,1]},\n",
    "}\n",
    "if args.data in data_parser.keys():\n",
    "    data_info = data_parser[args.data]\n",
    "    args.data_path = data_info['data']\n",
    "    args.target = data_info['T']\n",
    "    args.enc_in, args.dec_in, args.c_out = data_info[args.features]"
   ]
  },
  {
   "cell_type": "code",
   "execution_count": 52,
   "metadata": {
    "id": "yZ5Q2vyKwSfk"
   },
   "outputs": [],
   "source": [
    "args.detail_freq = args.freq\n",
    "args.freq = args.freq[-1:]"
   ]
  },
  {
   "cell_type": "code",
   "execution_count": 53,
   "metadata": {
    "colab": {
     "base_uri": "https://localhost:8080/"
    },
    "id": "ywY-umrw-mHO",
    "outputId": "70451310-6ab3-4a2b-f6cc-066201312de0"
   },
   "outputs": [
    {
     "name": "stdout",
     "output_type": "stream",
     "text": [
      "Args in experiment:\n",
      "{'model': 'informer', 'data': 'ETTh1', 'root_path': './', 'data_path': 'ETTh1.csv', 'features': 'MS', 'target': 'OT', 'freq': 'h', 'checkpoints': './informer_checkpoints', 'seq_len': 96, 'label_len': 48, 'pred_len': 24, 'enc_in': 7, 'dec_in': 7, 'c_out': 1, 'factor': 5, 'd_model': 512, 'n_heads': 8, 'e_layers': 2, 'd_layers': 1, 'd_ff': 2048, 'dropout': 0.05, 'attn': 'prob', 'embed': 'timeF', 'activation': 'gelu', 'distil': True, 'output_attention': False, 'mix': True, 'padding': 0, 'batch_size': 32, 'learning_rate': 0.0001, 'loss': 'mse', 'lradj': 'type1', 'use_amp': False, 'num_workers': 0, 'itr': 1, 'train_epochs': 10, 'patience': 3, 'des': 'exp', 'use_gpu': True, 'gpu': 0, 'use_multi_gpu': False, 'devices': '0,1,2,3', 'detail_freq': 'h'}\n"
     ]
    }
   ],
   "source": [
    "print('Args in experiment:')\n",
    "print(args)"
   ]
  },
  {
   "cell_type": "code",
   "execution_count": 54,
   "metadata": {
    "id": "KVHZhRB4-on9"
   },
   "outputs": [],
   "source": [
    "Exp = Exp_Informer"
   ]
  },
  {
   "cell_type": "code",
   "execution_count": 55,
   "metadata": {
    "colab": {
     "base_uri": "https://localhost:8080/"
    },
    "id": "928tzaA2AA2g",
    "outputId": "5fffdfb5-0c83-4d47-f0e1-d4a97b9eab2f"
   },
   "outputs": [
    {
     "name": "stdout",
     "output_type": "stream",
     "text": [
      "Use GPU: cuda:0\n",
      ">>>>>>>start training : informer_ETTh1_ftMS_sl96_ll48_pl24_dm512_nh8_el2_dl1_df2048_atprob_fc5_ebtimeF_dtTrue_mxTrue_exp_0>>>>>>>>>>>>>>>>>>>>>>>>>>\n",
      "train 12075\n",
      "val 2590\n",
      "test 2590\n",
      "\titers: 100, epoch: 1 | loss: 0.1416531\n",
      "\tspeed: 0.0427s/iter; left time: 156.7189s\n",
      "\titers: 200, epoch: 1 | loss: 0.1450227\n",
      "\tspeed: 0.0434s/iter; left time: 154.9818s\n",
      "\titers: 300, epoch: 1 | loss: 0.1107958\n",
      "\tspeed: 0.0436s/iter; left time: 151.3150s\n",
      "Epoch: 1 cost time: 16.319339275360107\n",
      "Epoch: 1, Steps: 377 | Train Loss: 0.1751459 Vali Loss: 0.2512627 Test Loss: 0.0948459\n",
      "Validation loss decreased (inf --> 0.251263).  Saving model ...\n",
      "Updating learning rate to 0.0001\n",
      "\titers: 100, epoch: 2 | loss: 0.1119680\n",
      "\tspeed: 0.0999s/iter; left time: 328.9414s\n",
      "\titers: 200, epoch: 2 | loss: 0.0698031\n",
      "\tspeed: 0.0421s/iter; left time: 134.3887s\n",
      "\titers: 300, epoch: 2 | loss: 0.0773408\n",
      "\tspeed: 0.0425s/iter; left time: 131.5072s\n",
      "Epoch: 2 cost time: 15.937740087509155\n",
      "Epoch: 2, Steps: 377 | Train Loss: 0.0931824 Vali Loss: 0.3724343 Test Loss: 0.1304574\n",
      "EarlyStopping counter: 1 out of 3\n",
      "Updating learning rate to 5e-05\n",
      "\titers: 100, epoch: 3 | loss: 0.0571212\n",
      "\tspeed: 0.0968s/iter; left time: 282.3660s\n",
      "\titers: 200, epoch: 3 | loss: 0.0637416\n",
      "\tspeed: 0.0416s/iter; left time: 117.1549s\n",
      "\titers: 300, epoch: 3 | loss: 0.0609474\n",
      "\tspeed: 0.0432s/iter; left time: 117.2911s\n",
      "Epoch: 3 cost time: 16.098984956741333\n",
      "Epoch: 3, Steps: 377 | Train Loss: 0.0645385 Vali Loss: 0.4310574 Test Loss: 0.1106640\n",
      "EarlyStopping counter: 2 out of 3\n",
      "Updating learning rate to 2.5e-05\n",
      "\titers: 100, epoch: 4 | loss: 0.0600661\n",
      "\tspeed: 0.0982s/iter; left time: 249.4780s\n",
      "\titers: 200, epoch: 4 | loss: 0.0449506\n",
      "\tspeed: 0.0428s/iter; left time: 104.5310s\n",
      "\titers: 300, epoch: 4 | loss: 0.0508682\n",
      "\tspeed: 0.0424s/iter; left time: 99.1340s\n",
      "Epoch: 4 cost time: 16.080694675445557\n",
      "Epoch: 4, Steps: 377 | Train Loss: 0.0514323 Vali Loss: 0.5266923 Test Loss: 0.1412785\n",
      "EarlyStopping counter: 3 out of 3\n",
      "Early stopping\n",
      ">>>>>>>testing : informer_ETTh1_ftMS_sl96_ll48_pl24_dm512_nh8_el2_dl1_df2048_atprob_fc5_ebtimeF_dtTrue_mxTrue_exp_0<<<<<<<<<<<<<<<<<<<<<<<<<<<<<<<<<\n",
      "test 2590\n",
      "test shape: (80, 32, 24, 1) (80, 32, 24, 1)\n",
      "test shape: (2560, 24, 1) (2560, 24, 1)\n",
      "mse:0.09515485912561417, mae:0.23648370802402496\n"
     ]
    }
   ],
   "source": [
    "for ii in range(args.itr):\n",
    "    # setting record of experiments\n",
    "    setting = '{}_{}_ft{}_sl{}_ll{}_pl{}_dm{}_nh{}_el{}_dl{}_df{}_at{}_fc{}_eb{}_dt{}_mx{}_{}_{}'.format(args.model, args.data, args.features,\n",
    "                args.seq_len, args.label_len, args.pred_len,\n",
    "                args.d_model, args.n_heads, args.e_layers, args.d_layers, args.d_ff, args.attn, args.factor, args.embed, args.distil, args.mix, args.des, ii)\n",
    "\n",
    "    # set experiments\n",
    "    exp = Exp(args)\n",
    "\n",
    "    # train\n",
    "    print('>>>>>>>start training : {}>>>>>>>>>>>>>>>>>>>>>>>>>>'.format(setting))\n",
    "    exp.train(setting)\n",
    "\n",
    "    # test\n",
    "    print('>>>>>>>testing : {}<<<<<<<<<<<<<<<<<<<<<<<<<<<<<<<<<'.format(setting))\n",
    "    exp.test(setting)\n",
    "\n",
    "    torch.cuda.empty_cache()"
   ]
  },
  {
   "cell_type": "code",
   "execution_count": null,
   "metadata": {},
   "outputs": [],
   "source": [
    "# torch.save(vae.state_dict(), 'vae_1000_2')"
   ]
  },
  {
   "cell_type": "markdown",
   "metadata": {
    "id": "j8Jh3AYFeGM3"
   },
   "source": [
    "# Metrics"
   ]
  },
  {
   "cell_type": "code",
   "execution_count": null,
   "metadata": {},
   "outputs": [],
   "source": [
    "# here is the detailed code of function predict\n",
    "\n",
    "def predict(exp, setting, sample, load=True): ############################### Added sample!\n",
    "    pred_data, pred_loader = exp._get_data(flag='pred', sample=sample)\n",
    "\n",
    "    if load:\n",
    "        path = os.path.join(exp.args.checkpoints, setting)\n",
    "        best_model_path = path+'/'+'checkpoint.pth'\n",
    "        exp.model.load_state_dict(torch.load(best_model_path))\n",
    "\n",
    "    exp.model.eval()\n",
    "\n",
    "    preds = []\n",
    "\n",
    "    for i, (batch_x,batch_y,batch_x_mark,batch_y_mark) in enumerate(pred_loader):\n",
    "        batch_x = batch_x.float().to(exp.device)\n",
    "        batch_y = batch_y.float()\n",
    "        batch_x_mark = batch_x_mark.float().to(exp.device)\n",
    "        batch_y_mark = batch_y_mark.float().to(exp.device)\n",
    "\n",
    "        # decoder input\n",
    "        if exp.args.padding==0:\n",
    "            dec_inp = torch.zeros([batch_y.shape[0], exp.args.pred_len, batch_y.shape[-1]]).float()\n",
    "        elif exp.args.padding==1:\n",
    "            dec_inp = torch.ones([batch_y.shape[0], exp.args.pred_len, batch_y.shape[-1]]).float()\n",
    "        else:\n",
    "            dec_inp = torch.zeros([batch_y.shape[0], exp.args.pred_len, batch_y.shape[-1]]).float()\n",
    "        dec_inp = torch.cat([batch_y[:,:exp.args.label_len,:], dec_inp], dim=1).float().to(exp.device)\n",
    "        # encoder - decoder\n",
    "        if exp.args.use_amp:\n",
    "            with torch.cuda.amp.autocast():\n",
    "                if exp.args.output_attention:\n",
    "                    outputs = exp.model(batch_x, batch_x_mark, dec_inp, batch_y_mark)[0]\n",
    "                else:\n",
    "                    outputs = exp.model(batch_x, batch_x_mark, dec_inp, batch_y_mark)\n",
    "        else:\n",
    "            if exp.args.output_attention:\n",
    "                outputs = exp.model(batch_x, batch_x_mark, dec_inp, batch_y_mark)[0]\n",
    "            else:\n",
    "                outputs = exp.model(batch_x, batch_x_mark, dec_inp, batch_y_mark)\n",
    "        f_dim = -1 if exp.args.features=='MS' else 0\n",
    "        batch_y = batch_y[:,-exp.args.pred_len:,f_dim:].to(exp.device)\n",
    "\n",
    "        pred = outputs.detach().cpu().numpy()#.squeeze()\n",
    "\n",
    "        preds.append(pred)\n",
    "\n",
    "    preds = np.array(preds)\n",
    "    preds = preds.reshape(-1, preds.shape[-2], preds.shape[-1])\n",
    "\n",
    "    # result save\n",
    "    folder_path = './results/' + setting +'/'\n",
    "    if not os.path.exists(folder_path):\n",
    "        os.makedirs(folder_path)\n",
    "\n",
    "    np.save(folder_path+'real_prediction.npy', preds)\n",
    "\n",
    "    return preds"
   ]
  },
  {
   "cell_type": "code",
   "execution_count": 64,
   "metadata": {
    "id": "CteQHsEQdzEY"
   },
   "outputs": [],
   "source": [
    "from torch.utils.data import Dataset, DataLoader\n",
    "import torch\n",
    "\n",
    "class SlidingDataset(Dataset):\n",
    "    def __init__(self, ts, window_size):\n",
    "        self.window_size = window_size\n",
    "        self.seq = ts\n",
    "\n",
    "    def __len__(self):\n",
    "        return len(self.seq) - self.window_size\n",
    "\n",
    "    def __getitem__(self, idx):\n",
    "        return self.seq[idx: idx + self.window_size]"
   ]
  },
  {
   "cell_type": "code",
   "execution_count": 65,
   "metadata": {},
   "outputs": [],
   "source": [
    "dataset = SlidingDataset(val_data, window_size=96+24)"
   ]
  },
  {
   "cell_type": "code",
   "execution_count": 60,
   "metadata": {},
   "outputs": [
    {
     "data": {
      "text/plain": [
       "2493"
      ]
     },
     "execution_count": 60,
     "metadata": {},
     "output_type": "execute_result"
    }
   ],
   "source": [
    "len(dataset)"
   ]
  },
  {
   "cell_type": "code",
   "execution_count": 61,
   "metadata": {},
   "outputs": [
    {
     "data": {
      "text/plain": [
       "120"
      ]
     },
     "execution_count": 61,
     "metadata": {},
     "output_type": "execute_result"
    }
   ],
   "source": [
    "96+24"
   ]
  },
  {
   "cell_type": "code",
   "execution_count": 21,
   "metadata": {},
   "outputs": [
    {
     "data": {
      "text/html": [
       "<div>\n",
       "<style scoped>\n",
       "    .dataframe tbody tr th:only-of-type {\n",
       "        vertical-align: middle;\n",
       "    }\n",
       "\n",
       "    .dataframe tbody tr th {\n",
       "        vertical-align: top;\n",
       "    }\n",
       "\n",
       "    .dataframe thead th {\n",
       "        text-align: right;\n",
       "    }\n",
       "</style>\n",
       "<table border=\"1\" class=\"dataframe\">\n",
       "  <thead>\n",
       "    <tr style=\"text-align: right;\">\n",
       "      <th></th>\n",
       "      <th>date</th>\n",
       "      <th>HUFL</th>\n",
       "      <th>HULL</th>\n",
       "      <th>MUFL</th>\n",
       "      <th>MULL</th>\n",
       "      <th>LUFL</th>\n",
       "      <th>LULL</th>\n",
       "      <th>OT</th>\n",
       "    </tr>\n",
       "  </thead>\n",
       "  <tbody>\n",
       "    <tr>\n",
       "      <td>14304</td>\n",
       "      <td>2018-02-17 00:00:00</td>\n",
       "      <td>10.248</td>\n",
       "      <td>1.273</td>\n",
       "      <td>7.214</td>\n",
       "      <td>0.391</td>\n",
       "      <td>2.955</td>\n",
       "      <td>0.457</td>\n",
       "      <td>4.573</td>\n",
       "    </tr>\n",
       "    <tr>\n",
       "      <td>14305</td>\n",
       "      <td>2018-02-17 01:00:00</td>\n",
       "      <td>8.372</td>\n",
       "      <td>1.005</td>\n",
       "      <td>5.899</td>\n",
       "      <td>0.249</td>\n",
       "      <td>2.437</td>\n",
       "      <td>0.457</td>\n",
       "      <td>4.010</td>\n",
       "    </tr>\n",
       "    <tr>\n",
       "      <td>14306</td>\n",
       "      <td>2018-02-17 02:00:00</td>\n",
       "      <td>7.502</td>\n",
       "      <td>1.005</td>\n",
       "      <td>5.295</td>\n",
       "      <td>0.178</td>\n",
       "      <td>2.224</td>\n",
       "      <td>0.457</td>\n",
       "      <td>4.150</td>\n",
       "    </tr>\n",
       "    <tr>\n",
       "      <td>14307</td>\n",
       "      <td>2018-02-17 03:00:00</td>\n",
       "      <td>6.966</td>\n",
       "      <td>0.804</td>\n",
       "      <td>4.833</td>\n",
       "      <td>0.107</td>\n",
       "      <td>2.071</td>\n",
       "      <td>0.457</td>\n",
       "      <td>4.995</td>\n",
       "    </tr>\n",
       "    <tr>\n",
       "      <td>14308</td>\n",
       "      <td>2018-02-17 04:00:00</td>\n",
       "      <td>6.832</td>\n",
       "      <td>0.804</td>\n",
       "      <td>4.762</td>\n",
       "      <td>0.142</td>\n",
       "      <td>2.071</td>\n",
       "      <td>0.426</td>\n",
       "      <td>4.362</td>\n",
       "    </tr>\n",
       "    <tr>\n",
       "      <td>...</td>\n",
       "      <td>...</td>\n",
       "      <td>...</td>\n",
       "      <td>...</td>\n",
       "      <td>...</td>\n",
       "      <td>...</td>\n",
       "      <td>...</td>\n",
       "      <td>...</td>\n",
       "      <td>...</td>\n",
       "    </tr>\n",
       "    <tr>\n",
       "      <td>14802</td>\n",
       "      <td>2018-03-09 18:00:00</td>\n",
       "      <td>9.645</td>\n",
       "      <td>1.674</td>\n",
       "      <td>6.538</td>\n",
       "      <td>0.675</td>\n",
       "      <td>3.168</td>\n",
       "      <td>0.609</td>\n",
       "      <td>6.613</td>\n",
       "    </tr>\n",
       "    <tr>\n",
       "      <td>14803</td>\n",
       "      <td>2018-03-09 19:00:00</td>\n",
       "      <td>9.578</td>\n",
       "      <td>1.273</td>\n",
       "      <td>6.219</td>\n",
       "      <td>0.320</td>\n",
       "      <td>3.381</td>\n",
       "      <td>0.609</td>\n",
       "      <td>5.698</td>\n",
       "    </tr>\n",
       "    <tr>\n",
       "      <td>14804</td>\n",
       "      <td>2018-03-09 20:00:00</td>\n",
       "      <td>10.985</td>\n",
       "      <td>2.813</td>\n",
       "      <td>7.427</td>\n",
       "      <td>1.492</td>\n",
       "      <td>3.655</td>\n",
       "      <td>0.883</td>\n",
       "      <td>5.487</td>\n",
       "    </tr>\n",
       "    <tr>\n",
       "      <td>14805</td>\n",
       "      <td>2018-03-09 21:00:00</td>\n",
       "      <td>11.588</td>\n",
       "      <td>2.880</td>\n",
       "      <td>8.209</td>\n",
       "      <td>1.564</td>\n",
       "      <td>3.350</td>\n",
       "      <td>0.822</td>\n",
       "      <td>5.135</td>\n",
       "    </tr>\n",
       "    <tr>\n",
       "      <td>14806</td>\n",
       "      <td>2018-03-09 22:00:00</td>\n",
       "      <td>11.588</td>\n",
       "      <td>3.684</td>\n",
       "      <td>8.280</td>\n",
       "      <td>2.061</td>\n",
       "      <td>2.985</td>\n",
       "      <td>0.853</td>\n",
       "      <td>5.346</td>\n",
       "    </tr>\n",
       "  </tbody>\n",
       "</table>\n",
       "<p>503 rows × 8 columns</p>\n",
       "</div>"
      ],
      "text/plain": [
       "                      date    HUFL   HULL   MUFL   MULL   LUFL   LULL     OT\n",
       "14304  2018-02-17 00:00:00  10.248  1.273  7.214  0.391  2.955  0.457  4.573\n",
       "14305  2018-02-17 01:00:00   8.372  1.005  5.899  0.249  2.437  0.457  4.010\n",
       "14306  2018-02-17 02:00:00   7.502  1.005  5.295  0.178  2.224  0.457  4.150\n",
       "14307  2018-02-17 03:00:00   6.966  0.804  4.833  0.107  2.071  0.457  4.995\n",
       "14308  2018-02-17 04:00:00   6.832  0.804  4.762  0.142  2.071  0.426  4.362\n",
       "...                    ...     ...    ...    ...    ...    ...    ...    ...\n",
       "14802  2018-03-09 18:00:00   9.645  1.674  6.538  0.675  3.168  0.609  6.613\n",
       "14803  2018-03-09 19:00:00   9.578  1.273  6.219  0.320  3.381  0.609  5.698\n",
       "14804  2018-03-09 20:00:00  10.985  2.813  7.427  1.492  3.655  0.883  5.487\n",
       "14805  2018-03-09 21:00:00  11.588  2.880  8.209  1.564  3.350  0.822  5.135\n",
       "14806  2018-03-09 22:00:00  11.588  3.684  8.280  2.061  2.985  0.853  5.346\n",
       "\n",
       "[503 rows x 8 columns]"
      ]
     },
     "execution_count": 21,
     "metadata": {},
     "output_type": "execute_result"
    }
   ],
   "source": [
    "sample"
   ]
  },
  {
   "cell_type": "code",
   "execution_count": 62,
   "metadata": {},
   "outputs": [
    {
     "data": {
      "text/plain": [
       "0        30.531000\n",
       "1        27.787001\n",
       "2        27.787001\n",
       "3        25.044001\n",
       "4        21.948000\n",
       "           ...    \n",
       "11853    10.693000\n",
       "11854    10.763000\n",
       "11855    10.622000\n",
       "11856    10.482000\n",
       "11857    10.271000\n",
       "Name: OT, Length: 11858, dtype: float64"
      ]
     },
     "execution_count": 62,
     "metadata": {},
     "output_type": "execute_result"
    }
   ],
   "source": [
    "train_data[dset.columns[-1]]"
   ]
  },
  {
   "cell_type": "code",
   "execution_count": 68,
   "metadata": {},
   "outputs": [
    {
     "data": {
      "text/plain": [
       "(2613, 8)"
      ]
     },
     "execution_count": 68,
     "metadata": {},
     "output_type": "execute_result"
    }
   ],
   "source": [
    "val_data.values.shape"
   ]
  },
  {
   "cell_type": "code",
   "execution_count": 66,
   "metadata": {
    "colab": {
     "base_uri": "https://localhost:8080/",
     "height": 236
    },
    "id": "MYezmVHkUQxi",
    "outputId": "b9961e1b-67b9-48aa-923d-9e2d259d68a7"
   },
   "outputs": [
    {
     "name": "stderr",
     "output_type": "stream",
     "text": [
      "2492it [05:24,  7.68it/s]"
     ]
    },
    {
     "name": "stdout",
     "output_type": "stream",
     "text": [
      "Mean MSE: 18.719214549897544\n",
      "Mean MAE: 3.771548939497972\n"
     ]
    },
    {
     "name": "stderr",
     "output_type": "stream",
     "text": [
      "\n"
     ]
    }
   ],
   "source": [
    "from sklearn.metrics import mean_squared_error, mean_absolute_error\n",
    "import numpy as np\n",
    "import pandas as pd\n",
    "from tqdm import tqdm\n",
    "import os\n",
    "from sklearn.preprocessing import StandardScaler\n",
    "\n",
    "dset = pd.read_csv('ETTh1.csv')\n",
    "\n",
    "num_train = int(len(dset) * 0.7)\n",
    "num_val = int(len(dset) * 0.15)\n",
    "num_test = int(len(dset) * 0.15)\n",
    "\n",
    "val_data = dset[num_train : num_train + num_val]\n",
    "\n",
    "dataset = SlidingDataset(val_data, window_size=120) ###################################### -1\n",
    "\n",
    "num_train = int(len(dset) * 0.7)\n",
    "\n",
    "train_data = dset[0:num_train - 96]\n",
    "scaler = StandardScaler()\n",
    "scaler.fit(train_data[dset.columns[-1]].values.reshape(-1, 1))\n",
    "\n",
    "mses, maes = [], []\n",
    "for i,sample in tqdm(enumerate(dataset)):\n",
    "    \n",
    "    \n",
    "    x, y_true = sample[:96], sample[96:].iloc[:,-1].values\n",
    "\n",
    "    y_pred = scaler.inverse_transform(predict(exp, setting, sample=x, load=True).reshape(24,1)) # y_pred.shape: [24] ##############   load!!!\n",
    "\n",
    "    mses.append(mean_squared_error(y_true, y_pred))\n",
    "    maes.append(mean_absolute_error(y_true, y_pred))\n",
    "    \n",
    "    # break ######################################################################################\n",
    "    \n",
    "    if i == len(dataset)-1:\n",
    "        break\n",
    "\n",
    "print('Mean MSE:', np.mean(mses))\n",
    "print('Mean MAE:', np.mean(maes))"
   ]
  },
  {
   "cell_type": "code",
   "execution_count": 67,
   "metadata": {},
   "outputs": [],
   "source": [
    "np.save('mses_inform.npy', mses)"
   ]
  },
  {
   "cell_type": "code",
   "execution_count": 69,
   "metadata": {},
   "outputs": [
    {
     "data": {
      "image/png": "[encoded data removed]",
      "text/plain": [
       "<Figure size 432x288 with 1 Axes>"
      ]
     },
     "metadata": {
      "needs_background": "light"
     },
     "output_type": "display_data"
    }
   ],
   "source": [
    "import matplotlib.pyplot as plt\n",
    "\n",
    "plt.figure()\n",
    "plt.plot(np.concatenate([x['OT'].values,y_pred.squeeze(-1)]))\n",
    "plt.plot(np.concatenate([x['OT'].values,y_true]))\n",
    "plt.show()"
   ]
  },
  {
   "cell_type": "code",
   "execution_count": 68,
   "metadata": {},
   "outputs": [
    {
     "data": {
      "image/png": "[encoded data removed]",
      "text/plain": [
       "<Figure size 432x288 with 1 Axes>"
      ]
     },
     "metadata": {
      "needs_background": "light"
     },
     "output_type": "display_data"
    }
   ],
   "source": [
    "import matplotlib.pyplot as plt\n",
    "\n",
    "plt.figure()\n",
    "plt.plot(y_pred)\n",
    "plt.plot(y_true)\n",
    "plt.show()"
   ]
  },
  {
   "cell_type": "code",
   "execution_count": 70,
   "metadata": {},
   "outputs": [
    {
     "name": "stderr",
     "output_type": "stream",
     "text": [
      "2492it [05:21,  7.75it/s]"
     ]
    },
    {
     "name": "stdout",
     "output_type": "stream",
     "text": [
      "Mean MSE: 6.829858477113687\n",
      "Mean MAE: 2.00619241879783\n"
     ]
    },
    {
     "name": "stderr",
     "output_type": "stream",
     "text": [
      "\n"
     ]
    }
   ],
   "source": [
    "### TEST\n",
    "\n",
    "from sklearn.metrics import mean_squared_error, mean_absolute_error\n",
    "import numpy as np\n",
    "import pandas as pd\n",
    "from tqdm import tqdm\n",
    "import os\n",
    "from sklearn.preprocessing import StandardScaler\n",
    "\n",
    "dset = pd.read_csv('ETTh1.csv')\n",
    "\n",
    "num_train = int(len(dset) * 0.7)\n",
    "num_val = int(len(dset) * 0.15)\n",
    "num_test = int(len(dset) * 0.15)\n",
    "\n",
    "\n",
    "test_data = dset[num_train + num_val:]\n",
    "\n",
    "dataset = SlidingDataset(test_data, window_size=120) ###################################### -1\n",
    "\n",
    "num_train = int(len(dset) * 0.7)\n",
    "\n",
    "train_data = dset[0:num_train - 96]\n",
    "scaler = StandardScaler()\n",
    "scaler.fit(train_data[dset.columns[-1]].values.reshape(-1, 1))\n",
    "\n",
    "mses, maes = [], []\n",
    "for i,sample in tqdm(enumerate(dataset)):\n",
    "    \n",
    "    \n",
    "    x, y_true = sample[:96], sample[96:].iloc[:,-1].values\n",
    "\n",
    "    y_pred = scaler.inverse_transform(predict(exp, setting, sample=x, load=True).reshape(24,1)) # y_pred.shape: [24] ##############   load!!!\n",
    "\n",
    "    mses.append(mean_squared_error(y_true, y_pred))\n",
    "    maes.append(mean_absolute_error(y_true, y_pred))\n",
    "    \n",
    "    # break ######################################################################################\n",
    "    \n",
    "    if i == len(dataset)-1:\n",
    "        break\n",
    "\n",
    "print('Mean MSE:', np.mean(mses))\n",
    "print('Mean MAE:', np.mean(maes))"
   ]
  },
  {
   "cell_type": "code",
   "execution_count": 71,
   "metadata": {},
   "outputs": [
    {
     "data": {
      "image/png": "[encoded data removed]",
      "text/plain": [
       "<Figure size 432x288 with 1 Axes>"
      ]
     },
     "metadata": {
      "needs_background": "light"
     },
     "output_type": "display_data"
    }
   ],
   "source": [
    "import matplotlib.pyplot as plt\n",
    "\n",
    "plt.figure()\n",
    "plt.plot(np.concatenate([x['OT'].values,y_pred.squeeze(-1)]))\n",
    "plt.plot(np.concatenate([x['OT'].values,y_true]))\n",
    "plt.show()"
   ]
  },
  {
   "cell_type": "markdown",
   "metadata": {},
   "source": [
    "## Generated data vae"
   ]
  },
  {
   "cell_type": "code",
   "execution_count": 69,
   "metadata": {},
   "outputs": [
    {
     "data": {
      "text/plain": [
       "12194    2017-11-21 02:00:00\n",
       "12195    2017-11-21 03:00:00\n",
       "12196    2017-11-21 04:00:00\n",
       "12197    2017-11-21 05:00:00\n",
       "12198    2017-11-21 06:00:00\n",
       "                ...         \n",
       "12693    2017-12-11 21:00:00\n",
       "12694    2017-12-11 22:00:00\n",
       "12695    2017-12-11 23:00:00\n",
       "12696    2017-12-12 00:00:00\n",
       "12697    2017-12-12 01:00:00\n",
       "Name: date, Length: 504, dtype: object"
      ]
     },
     "execution_count": 69,
     "metadata": {},
     "output_type": "execute_result"
    }
   ],
   "source": [
    "val_data[:120]['date']"
   ]
  },
  {
   "cell_type": "code",
   "execution_count": 73,
   "metadata": {},
   "outputs": [
    {
     "data": {
      "text/html": [
       "<div>\n",
       "<style scoped>\n",
       "    .dataframe tbody tr th:only-of-type {\n",
       "        vertical-align: middle;\n",
       "    }\n",
       "\n",
       "    .dataframe tbody tr th {\n",
       "        vertical-align: top;\n",
       "    }\n",
       "\n",
       "    .dataframe thead th {\n",
       "        text-align: right;\n",
       "    }\n",
       "</style>\n",
       "<table border=\"1\" class=\"dataframe\">\n",
       "  <thead>\n",
       "    <tr style=\"text-align: right;\">\n",
       "      <th></th>\n",
       "      <th>date</th>\n",
       "      <th>HUFL</th>\n",
       "      <th>HULL</th>\n",
       "      <th>MUFL</th>\n",
       "      <th>MULL</th>\n",
       "      <th>LUFL</th>\n",
       "      <th>LULL</th>\n",
       "      <th>OT</th>\n",
       "    </tr>\n",
       "  </thead>\n",
       "  <tbody>\n",
       "    <tr>\n",
       "      <th>0</th>\n",
       "      <td>2017-11-21 02:00:00</td>\n",
       "      <td>11.591135</td>\n",
       "      <td>3.261396</td>\n",
       "      <td>8.368284</td>\n",
       "      <td>1.777897</td>\n",
       "      <td>3.191117</td>\n",
       "      <td>0.908301</td>\n",
       "      <td>4.169557</td>\n",
       "    </tr>\n",
       "    <tr>\n",
       "      <th>1</th>\n",
       "      <td>2017-11-21 03:00:00</td>\n",
       "      <td>10.696733</td>\n",
       "      <td>2.158862</td>\n",
       "      <td>7.744921</td>\n",
       "      <td>0.983497</td>\n",
       "      <td>2.883284</td>\n",
       "      <td>0.696618</td>\n",
       "      <td>4.065534</td>\n",
       "    </tr>\n",
       "    <tr>\n",
       "      <th>2</th>\n",
       "      <td>2017-11-21 04:00:00</td>\n",
       "      <td>10.512268</td>\n",
       "      <td>2.378364</td>\n",
       "      <td>7.729901</td>\n",
       "      <td>1.143582</td>\n",
       "      <td>2.738585</td>\n",
       "      <td>0.700899</td>\n",
       "      <td>3.474173</td>\n",
       "    </tr>\n",
       "    <tr>\n",
       "      <th>3</th>\n",
       "      <td>2017-11-21 05:00:00</td>\n",
       "      <td>9.476730</td>\n",
       "      <td>1.875755</td>\n",
       "      <td>6.746197</td>\n",
       "      <td>0.800635</td>\n",
       "      <td>2.675065</td>\n",
       "      <td>0.587571</td>\n",
       "      <td>4.134691</td>\n",
       "    </tr>\n",
       "    <tr>\n",
       "      <th>4</th>\n",
       "      <td>2017-11-21 06:00:00</td>\n",
       "      <td>8.577170</td>\n",
       "      <td>1.658181</td>\n",
       "      <td>6.482329</td>\n",
       "      <td>0.729567</td>\n",
       "      <td>2.341952</td>\n",
       "      <td>0.549468</td>\n",
       "      <td>3.702732</td>\n",
       "    </tr>\n",
       "    <tr>\n",
       "      <th>...</th>\n",
       "      <td>...</td>\n",
       "      <td>...</td>\n",
       "      <td>...</td>\n",
       "      <td>...</td>\n",
       "      <td>...</td>\n",
       "      <td>...</td>\n",
       "      <td>...</td>\n",
       "      <td>...</td>\n",
       "    </tr>\n",
       "    <tr>\n",
       "      <th>115</th>\n",
       "      <td>2017-11-25 21:00:00</td>\n",
       "      <td>10.759835</td>\n",
       "      <td>2.877248</td>\n",
       "      <td>6.890652</td>\n",
       "      <td>1.412620</td>\n",
       "      <td>3.830852</td>\n",
       "      <td>0.978947</td>\n",
       "      <td>3.398002</td>\n",
       "    </tr>\n",
       "    <tr>\n",
       "      <th>116</th>\n",
       "      <td>2017-11-25 22:00:00</td>\n",
       "      <td>11.152911</td>\n",
       "      <td>2.638870</td>\n",
       "      <td>7.496938</td>\n",
       "      <td>1.297168</td>\n",
       "      <td>3.768311</td>\n",
       "      <td>0.953486</td>\n",
       "      <td>4.002291</td>\n",
       "    </tr>\n",
       "    <tr>\n",
       "      <th>117</th>\n",
       "      <td>2017-11-25 23:00:00</td>\n",
       "      <td>13.417835</td>\n",
       "      <td>3.326422</td>\n",
       "      <td>9.075990</td>\n",
       "      <td>1.310258</td>\n",
       "      <td>4.501578</td>\n",
       "      <td>0.958516</td>\n",
       "      <td>2.854347</td>\n",
       "    </tr>\n",
       "    <tr>\n",
       "      <th>118</th>\n",
       "      <td>2017-11-26 00:00:00</td>\n",
       "      <td>11.676733</td>\n",
       "      <td>2.808215</td>\n",
       "      <td>8.585544</td>\n",
       "      <td>1.421118</td>\n",
       "      <td>3.532031</td>\n",
       "      <td>0.810571</td>\n",
       "      <td>4.213661</td>\n",
       "    </tr>\n",
       "    <tr>\n",
       "      <th>119</th>\n",
       "      <td>2017-11-26 01:00:00</td>\n",
       "      <td>11.954600</td>\n",
       "      <td>3.264902</td>\n",
       "      <td>9.193171</td>\n",
       "      <td>1.752239</td>\n",
       "      <td>3.513070</td>\n",
       "      <td>0.897115</td>\n",
       "      <td>3.437120</td>\n",
       "    </tr>\n",
       "  </tbody>\n",
       "</table>\n",
       "<p>120 rows × 8 columns</p>\n",
       "</div>"
      ],
      "text/plain": [
       "                    date       HUFL      HULL      MUFL      MULL      LUFL  \\\n",
       "0    2017-11-21 02:00:00  11.591135  3.261396  8.368284  1.777897  3.191117   \n",
       "1    2017-11-21 03:00:00  10.696733  2.158862  7.744921  0.983497  2.883284   \n",
       "2    2017-11-21 04:00:00  10.512268  2.378364  7.729901  1.143582  2.738585   \n",
       "3    2017-11-21 05:00:00   9.476730  1.875755  6.746197  0.800635  2.675065   \n",
       "4    2017-11-21 06:00:00   8.577170  1.658181  6.482329  0.729567  2.341952   \n",
       "..                   ...        ...       ...       ...       ...       ...   \n",
       "115  2017-11-25 21:00:00  10.759835  2.877248  6.890652  1.412620  3.830852   \n",
       "116  2017-11-25 22:00:00  11.152911  2.638870  7.496938  1.297168  3.768311   \n",
       "117  2017-11-25 23:00:00  13.417835  3.326422  9.075990  1.310258  4.501578   \n",
       "118  2017-11-26 00:00:00  11.676733  2.808215  8.585544  1.421118  3.532031   \n",
       "119  2017-11-26 01:00:00  11.954600  3.264902  9.193171  1.752239  3.513070   \n",
       "\n",
       "         LULL        OT  \n",
       "0    0.908301  4.169557  \n",
       "1    0.696618  4.065534  \n",
       "2    0.700899  3.474173  \n",
       "3    0.587571  4.134691  \n",
       "4    0.549468  3.702732  \n",
       "..        ...       ...  \n",
       "115  0.978947  3.398002  \n",
       "116  0.953486  4.002291  \n",
       "117  0.958516  2.854347  \n",
       "118  0.810571  4.213661  \n",
       "119  0.897115  3.437120  \n",
       "\n",
       "[120 rows x 8 columns]"
      ]
     },
     "execution_count": 73,
     "metadata": {},
     "output_type": "execute_result"
    }
   ],
   "source": [
    "dset_numpy = np.load('vae_generated.npy')\n",
    "df = pd.DataFrame(dset_numpy[0], columns=dset.columns[1:])\n",
    "date = val_data[:120]['date']\n",
    "df.insert(0, 'date', date.values)\n",
    "df"
   ]
  },
  {
   "cell_type": "code",
   "execution_count": 75,
   "metadata": {},
   "outputs": [
    {
     "name": "stderr",
     "output_type": "stream",
     "text": [
      "100%|██████████| 4986/4986 [10:56<00:00,  7.59it/s]"
     ]
    },
    {
     "name": "stdout",
     "output_type": "stream",
     "text": [
      "Mean MSE: 16.021555459285278\n",
      "Mean MAE: 3.7057500745065357\n"
     ]
    },
    {
     "name": "stderr",
     "output_type": "stream",
     "text": [
      "\n"
     ]
    }
   ],
   "source": [
    "from sklearn.metrics import mean_squared_error, mean_absolute_error\n",
    "import numpy as np\n",
    "import pandas as pd\n",
    "from tqdm import tqdm\n",
    "import os\n",
    "from sklearn.preprocessing import StandardScaler\n",
    "\n",
    "dsett = pd.read_csv('ETTh1.csv')\n",
    "\n",
    "dset_numpy = np.load('vae_generated.npy')\n",
    "\n",
    "num_train = int(len(dsett) * 0.7)\n",
    "num_val = int(len(dsett) * 0.15)\n",
    "num_test = int(len(dsett) * 0.15)\n",
    "val_data = dsett[num_train : num_train + num_val]\n",
    "date = val_data[:120].index\n",
    "\n",
    " ###################################### -1\n",
    "\n",
    "train_data = dsett[0:num_train - 96]\n",
    "scaler = StandardScaler()\n",
    "scaler.fit(train_data[dsett.columns[-1]].values.reshape(-1, 1))\n",
    "\n",
    "mses, maes = [], []\n",
    "for sample in tqdm(dset_numpy):\n",
    "    \n",
    "    sample = pd.DataFrame(sample, columns=dsett.columns[1:])\n",
    "    sample.insert(0, 'date', date.values)\n",
    "    \n",
    "    x, y_true = sample[:96], sample[96:].iloc[:,-1].values\n",
    "\n",
    "    y_pred = scaler.inverse_transform(predict(exp, setting, sample=x, load=True).reshape(24,1)) # y_pred.shape: [24] ##############   load!!!\n",
    "\n",
    "    mses.append(mean_squared_error(y_true, y_pred))\n",
    "    maes.append(mean_absolute_error(y_true, y_pred))\n",
    "    \n",
    "    # break ######################################################################################\n",
    "    \n",
    "\n",
    "print('Mean MSE:', np.mean(mses))\n",
    "print('Mean MAE:', np.mean(maes))"
   ]
  },
  {
   "cell_type": "code",
   "execution_count": 77,
   "metadata": {},
   "outputs": [],
   "source": [
    "np.save('mses_inform_vae.npy', mses)"
   ]
  },
  {
   "cell_type": "code",
   "execution_count": 76,
   "metadata": {},
   "outputs": [
    {
     "data": {
      "image/png": "[encoded data removed]",
      "text/plain": [
       "<Figure size 432x288 with 1 Axes>"
      ]
     },
     "metadata": {
      "needs_background": "light"
     },
     "output_type": "display_data"
    }
   ],
   "source": [
    "import matplotlib.pyplot as plt\n",
    "\n",
    "plt.figure()\n",
    "plt.plot(np.concatenate([x['OT'].values,y_pred.squeeze(-1)]))\n",
    "plt.plot(np.concatenate([x['OT'].values,y_true]))\n",
    "plt.show()"
   ]
  },
  {
   "cell_type": "code",
   "execution_count": null,
   "metadata": {},
   "outputs": [],
   "source": []
  },
  {
   "cell_type": "code",
   "execution_count": null,
   "metadata": {},
   "outputs": [],
   "source": []
  },
  {
   "cell_type": "code",
   "execution_count": 78,
   "metadata": {},
   "outputs": [
    {
     "data": {
      "text/html": [
       "<div>\n",
       "<style scoped>\n",
       "    .dataframe tbody tr th:only-of-type {\n",
       "        vertical-align: middle;\n",
       "    }\n",
       "\n",
       "    .dataframe tbody tr th {\n",
       "        vertical-align: top;\n",
       "    }\n",
       "\n",
       "    .dataframe thead th {\n",
       "        text-align: right;\n",
       "    }\n",
       "</style>\n",
       "<table border=\"1\" class=\"dataframe\">\n",
       "  <thead>\n",
       "    <tr style=\"text-align: right;\">\n",
       "      <th></th>\n",
       "      <th>date</th>\n",
       "      <th>HUFL</th>\n",
       "      <th>HULL</th>\n",
       "      <th>MUFL</th>\n",
       "      <th>MULL</th>\n",
       "      <th>LUFL</th>\n",
       "      <th>LULL</th>\n",
       "      <th>OT</th>\n",
       "    </tr>\n",
       "  </thead>\n",
       "  <tbody>\n",
       "    <tr>\n",
       "      <th>0</th>\n",
       "      <td>2017-11-21 02:00:00</td>\n",
       "      <td>11.624358</td>\n",
       "      <td>3.417839</td>\n",
       "      <td>8.959540</td>\n",
       "      <td>1.927082</td>\n",
       "      <td>3.213763</td>\n",
       "      <td>0.904882</td>\n",
       "      <td>4.528800</td>\n",
       "    </tr>\n",
       "    <tr>\n",
       "      <th>1</th>\n",
       "      <td>2017-11-21 03:00:00</td>\n",
       "      <td>10.843898</td>\n",
       "      <td>2.907850</td>\n",
       "      <td>7.725865</td>\n",
       "      <td>1.476253</td>\n",
       "      <td>2.857892</td>\n",
       "      <td>0.915651</td>\n",
       "      <td>4.303661</td>\n",
       "    </tr>\n",
       "    <tr>\n",
       "      <th>2</th>\n",
       "      <td>2017-11-21 04:00:00</td>\n",
       "      <td>10.993249</td>\n",
       "      <td>3.057151</td>\n",
       "      <td>7.969806</td>\n",
       "      <td>1.682486</td>\n",
       "      <td>3.143816</td>\n",
       "      <td>0.927704</td>\n",
       "      <td>4.580933</td>\n",
       "    </tr>\n",
       "    <tr>\n",
       "      <th>3</th>\n",
       "      <td>2017-11-21 05:00:00</td>\n",
       "      <td>7.339261</td>\n",
       "      <td>2.777120</td>\n",
       "      <td>3.617943</td>\n",
       "      <td>1.354014</td>\n",
       "      <td>3.366430</td>\n",
       "      <td>0.988716</td>\n",
       "      <td>4.382719</td>\n",
       "    </tr>\n",
       "    <tr>\n",
       "      <th>4</th>\n",
       "      <td>2017-11-21 06:00:00</td>\n",
       "      <td>11.324687</td>\n",
       "      <td>3.500900</td>\n",
       "      <td>8.674928</td>\n",
       "      <td>1.947599</td>\n",
       "      <td>3.212102</td>\n",
       "      <td>0.986405</td>\n",
       "      <td>4.230444</td>\n",
       "    </tr>\n",
       "    <tr>\n",
       "      <th>...</th>\n",
       "      <td>...</td>\n",
       "      <td>...</td>\n",
       "      <td>...</td>\n",
       "      <td>...</td>\n",
       "      <td>...</td>\n",
       "      <td>...</td>\n",
       "      <td>...</td>\n",
       "      <td>...</td>\n",
       "    </tr>\n",
       "    <tr>\n",
       "      <th>115</th>\n",
       "      <td>2017-11-25 21:00:00</td>\n",
       "      <td>0.118623</td>\n",
       "      <td>2.112629</td>\n",
       "      <td>-3.388466</td>\n",
       "      <td>0.467091</td>\n",
       "      <td>2.427205</td>\n",
       "      <td>1.494797</td>\n",
       "      <td>3.167577</td>\n",
       "    </tr>\n",
       "    <tr>\n",
       "      <th>116</th>\n",
       "      <td>2017-11-25 22:00:00</td>\n",
       "      <td>6.835548</td>\n",
       "      <td>2.442701</td>\n",
       "      <td>2.715356</td>\n",
       "      <td>0.451025</td>\n",
       "      <td>2.945565</td>\n",
       "      <td>1.470108</td>\n",
       "      <td>3.173904</td>\n",
       "    </tr>\n",
       "    <tr>\n",
       "      <th>117</th>\n",
       "      <td>2017-11-25 23:00:00</td>\n",
       "      <td>11.586795</td>\n",
       "      <td>3.169444</td>\n",
       "      <td>7.845727</td>\n",
       "      <td>0.987542</td>\n",
       "      <td>4.101616</td>\n",
       "      <td>1.437508</td>\n",
       "      <td>3.995666</td>\n",
       "    </tr>\n",
       "    <tr>\n",
       "      <th>118</th>\n",
       "      <td>2017-11-26 00:00:00</td>\n",
       "      <td>13.600821</td>\n",
       "      <td>3.750574</td>\n",
       "      <td>10.331362</td>\n",
       "      <td>1.564482</td>\n",
       "      <td>4.839399</td>\n",
       "      <td>1.221372</td>\n",
       "      <td>4.131754</td>\n",
       "    </tr>\n",
       "    <tr>\n",
       "      <th>119</th>\n",
       "      <td>2017-11-26 01:00:00</td>\n",
       "      <td>14.408468</td>\n",
       "      <td>3.168974</td>\n",
       "      <td>12.098581</td>\n",
       "      <td>1.139587</td>\n",
       "      <td>5.729160</td>\n",
       "      <td>1.112059</td>\n",
       "      <td>4.573254</td>\n",
       "    </tr>\n",
       "  </tbody>\n",
       "</table>\n",
       "<p>120 rows × 8 columns</p>\n",
       "</div>"
      ],
      "text/plain": [
       "                    date       HUFL      HULL       MUFL      MULL      LUFL  \\\n",
       "0    2017-11-21 02:00:00  11.624358  3.417839   8.959540  1.927082  3.213763   \n",
       "1    2017-11-21 03:00:00  10.843898  2.907850   7.725865  1.476253  2.857892   \n",
       "2    2017-11-21 04:00:00  10.993249  3.057151   7.969806  1.682486  3.143816   \n",
       "3    2017-11-21 05:00:00   7.339261  2.777120   3.617943  1.354014  3.366430   \n",
       "4    2017-11-21 06:00:00  11.324687  3.500900   8.674928  1.947599  3.212102   \n",
       "..                   ...        ...       ...        ...       ...       ...   \n",
       "115  2017-11-25 21:00:00   0.118623  2.112629  -3.388466  0.467091  2.427205   \n",
       "116  2017-11-25 22:00:00   6.835548  2.442701   2.715356  0.451025  2.945565   \n",
       "117  2017-11-25 23:00:00  11.586795  3.169444   7.845727  0.987542  4.101616   \n",
       "118  2017-11-26 00:00:00  13.600821  3.750574  10.331362  1.564482  4.839399   \n",
       "119  2017-11-26 01:00:00  14.408468  3.168974  12.098581  1.139587  5.729160   \n",
       "\n",
       "         LULL        OT  \n",
       "0    0.904882  4.528800  \n",
       "1    0.915651  4.303661  \n",
       "2    0.927704  4.580933  \n",
       "3    0.988716  4.382719  \n",
       "4    0.986405  4.230444  \n",
       "..        ...       ...  \n",
       "115  1.494797  3.167577  \n",
       "116  1.470108  3.173904  \n",
       "117  1.437508  3.995666  \n",
       "118  1.221372  4.131754  \n",
       "119  1.112059  4.573254  \n",
       "\n",
       "[120 rows x 8 columns]"
      ]
     },
     "execution_count": 78,
     "metadata": {},
     "output_type": "execute_result"
    }
   ],
   "source": [
    "dset_numpy = np.load('gan_generated.npy')\n",
    "df = pd.DataFrame(dset_numpy[0], columns=dset.columns[1:])\n",
    "date = val_data[:120]['date']\n",
    "df.insert(0, 'date', date.values)\n",
    "df"
   ]
  },
  {
   "cell_type": "code",
   "execution_count": 79,
   "metadata": {},
   "outputs": [
    {
     "name": "stderr",
     "output_type": "stream",
     "text": [
      "100%|██████████| 4986/4986 [10:52<00:00,  7.64it/s]"
     ]
    },
    {
     "name": "stdout",
     "output_type": "stream",
     "text": [
      "Mean MSE: 20.245630451975888\n",
      "Mean MAE: 3.920005164160246\n"
     ]
    },
    {
     "name": "stderr",
     "output_type": "stream",
     "text": [
      "\n"
     ]
    }
   ],
   "source": [
    "from sklearn.metrics import mean_squared_error, mean_absolute_error\n",
    "import numpy as np\n",
    "import pandas as pd\n",
    "from tqdm import tqdm\n",
    "import os\n",
    "from sklearn.preprocessing import StandardScaler\n",
    "\n",
    "dsett = pd.read_csv('ETTh1.csv')\n",
    "\n",
    "dset_numpy = np.load('gan_generated.npy')\n",
    "\n",
    "num_train = int(len(dsett) * 0.7)\n",
    "num_val = int(len(dsett) * 0.15)\n",
    "num_test = int(len(dsett) * 0.15)\n",
    "val_data = dsett[num_train : num_train + num_val]\n",
    "date = val_data[:120].index\n",
    "\n",
    " ###################################### -1\n",
    "\n",
    "train_data = dsett[0:num_train - 96]\n",
    "scaler = StandardScaler()\n",
    "scaler.fit(train_data[dsett.columns[-1]].values.reshape(-1, 1))\n",
    "\n",
    "mses, maes = [], []\n",
    "for sample in tqdm(dset_numpy):\n",
    "    \n",
    "    sample = pd.DataFrame(sample, columns=dsett.columns[1:])\n",
    "    sample.insert(0, 'date', date.values)\n",
    "    \n",
    "    x, y_true = sample[:96], sample[96:].iloc[:,-1].values\n",
    "\n",
    "    y_pred = scaler.inverse_transform(predict(exp, setting, sample=x, load=True).reshape(24,1)) # y_pred.shape: [24] ##############   load!!!\n",
    "\n",
    "    mses.append(mean_squared_error(y_true, y_pred))\n",
    "    maes.append(mean_absolute_error(y_true, y_pred))\n",
    "    \n",
    "    # break ######################################################################################\n",
    "    \n",
    "\n",
    "print('Mean MSE:', np.mean(mses))\n",
    "print('Mean MAE:', np.mean(maes))"
   ]
  },
  {
   "cell_type": "code",
   "execution_count": 80,
   "metadata": {},
   "outputs": [],
   "source": [
    "np.save('mses_inform_gan.npy', mses)"
   ]
  },
  {
   "cell_type": "code",
   "execution_count": 82,
   "metadata": {},
   "outputs": [
    {
     "data": {
      "image/png": "[encoded data removed]",
      "text/plain": [
       "<Figure size 432x288 with 1 Axes>"
      ]
     },
     "metadata": {
      "needs_background": "light"
     },
     "output_type": "display_data"
    }
   ],
   "source": [
    "import matplotlib.pyplot as plt\n",
    "\n",
    "plt.figure()\n",
    "plt.plot(np.concatenate([x['OT'].values,y_pred.squeeze(-1)]))\n",
    "plt.plot(np.concatenate([x['OT'].values,y_true]))\n",
    "plt.show()"
   ]
  },
  {
   "cell_type": "code",
   "execution_count": null,
   "metadata": {
    "id": "VUcvSLlkSFTx"
   },
   "outputs": [],
   "source": []
  }
 ],
 "metadata": {
  "colab": {
   "collapsed_sections": [
    "cNhEP_7sAgqC"
   ],
   "gpuType": "T4",
   "provenance": []
  },
  "kernelspec": {
   "display_name": "Python 3 (ipykernel)",
   "language": "python",
   "name": "python3"
  },
  "language_info": {
   "codemirror_mode": {
    "name": "ipython",
    "version": 3
   },
   "file_extension": ".py",
   "mimetype": "text/x-python",
   "name": "python",
   "nbconvert_exporter": "python",
   "pygments_lexer": "ipython3",
   "version": "3.7.12"
  }
 },
 "nbformat": 4,
 "nbformat_minor": 4
}
