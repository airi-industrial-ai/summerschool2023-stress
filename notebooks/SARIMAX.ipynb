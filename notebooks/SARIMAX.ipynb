{
 "cells": [
  {
   "cell_type": "code",
   "execution_count": 24,
   "metadata": {},
   "outputs": [],
   "source": [
    "import pandas as pd\n",
    "import numpy as np\n",
    "from sklearn.preprocessing import StandardScaler\n",
    "import matplotlib.pyplot as plt\n",
    "import torch\n",
    "from torch.utils.data import DataLoader\n",
    "from torch.utils.data import Dataset\n",
    "\n",
    "from pytorch_lightning import Trainer\n",
    "import requests\n",
    "\n",
    "from utils.data import get_Electricity_Transformer_Temperature_dataset, get_Electricity_Consuming_Load_dataset\n",
    "\n",
    "from sklearn.metrics import mean_squared_error, mean_absolute_error\n",
    "from sklearn.model_selection import train_test_split\n",
    "from sklearn.preprocessing import StandardScaler\n",
    "\n",
    "from statsmodels.tsa.api import SARIMAX"
   ]
  },
  {
   "cell_type": "code",
   "execution_count": 30,
   "metadata": {},
   "outputs": [
    {
     "name": "stdout",
     "output_type": "stream",
     "text": [
      "The autoreload extension is already loaded. To reload it, use:\n",
      "  %reload_ext autoreload\n"
     ]
    }
   ],
   "source": [
    "%load_ext autoreload\n",
    "%autoreload 2"
   ]
  },
  {
   "attachments": {},
   "cell_type": "markdown",
   "metadata": {},
   "source": [
    "# Train, val, test size"
   ]
  },
  {
   "cell_type": "code",
   "execution_count": 13,
   "metadata": {},
   "outputs": [],
   "source": [
    "val_size = 0.15 # samples\n",
    "test_size = 0.15 # samples \n",
    "\n",
    "input_size = 96\n",
    "horizont_size = 24"
   ]
  },
  {
   "cell_type": "code",
   "execution_count": 31,
   "metadata": {},
   "outputs": [],
   "source": [
    "class SlidingWindowDataset(Dataset):\n",
    "    def __init__(self, ts, window_size, step_size):\n",
    "        self.window_size = window_size\n",
    "        self.ts = np.array(ts)\n",
    "        self.step_size = step_size\n",
    "    \n",
    "    def __len__(self):\n",
    "        return (len(self.ts) - self.window_size + 1) // self.step_size\n",
    "    \n",
    "    def __getitem__(self, idx):\n",
    "        return np.array(\n",
    "            self.ts[range(idx*self.step_size, idx*self.step_size + self.window_size)]\n",
    "        )"
   ]
  },
  {
   "cell_type": "code",
   "execution_count": 42,
   "metadata": {},
   "outputs": [],
   "source": [
    "def truncate_dataset(dataset):\n",
    "    return dataset.iloc[:17420, :7]"
   ]
  },
  {
   "attachments": {},
   "cell_type": "markdown",
   "metadata": {},
   "source": [
    "# Dataset 1. Electricity Transformer Temperature.\n",
    "\n",
    "https://github.com/zhouhaoyi/ETDataset\n"
   ]
  },
  {
   "attachments": {},
   "cell_type": "markdown",
   "metadata": {},
   "source": [
    "| Field | date | HUFL | HULL | MUFL | MULL | LUFL | LULL | OT |\n",
    "| :----: | :----: | :----: | :----: | :----: | :----: | :----: | :----: | :----: |\n",
    "| Description | The recorded **date** |**H**igh **U**se**F**ul **L**oad | **H**igh **U**se**L**ess **L**oad | **M**iddle **U**se**F**ul **L**oad | **M**iddle **U**se**L**ess **L**oad | **L**ow **U**se**F**ul **L**oad | **L**ow **U**se**L**ess **L**oad | **O**il **T**emperature (target) |\n",
    "\n",
    "<p align=\"center\"><b>Table 1.</b> Description for each columm.</p>"
   ]
  },
  {
   "cell_type": "code",
   "execution_count": 50,
   "metadata": {},
   "outputs": [],
   "source": [
    "ETTh1 = get_Electricity_Transformer_Temperature_dataset()\n",
    "ETTh1 = truncate_dataset(ETTh1)\n",
    "\n",
    "ETT_X, ETT_y = ETTh1.iloc[:, :-1], ETTh1.iloc[:,-1].values.reshape(-1, 1)\n",
    "\n",
    "ETT_X_train, ETT_X_test, ETT_y_train, ETT_y_test = train_test_split(ETT_X, ETT_y, test_size=0.3, shuffle=False)\n",
    "\n",
    "ETT_X_val, ETT_X_test, ETT_y_val, ETT_y_test = train_test_split(ETT_X_test, ETT_y_test, test_size=0.5, shuffle=False)\n",
    "\n",
    "scaler_x = StandardScaler()\n",
    "scaler_y = StandardScaler()\n",
    "\n",
    "ETT_X_train_scaled = scaler_x.fit_transform(ETT_X_train)\n",
    "ETT_y_train_scaled = scaler_y.fit_transform(ETT_y_train)\n",
    "\n",
    "ETT_X_val_scaled = scaler_x.transform(ETT_X_val)\n",
    "ETT_y_val_scaled = scaler_y.transform(ETT_y_val)\n",
    "\n",
    "ETT_X_test_scaled = scaler_x.transform(ETT_X_test)\n",
    "ETT_y_test_scaled = scaler_y.transform(ETT_y_test)"
   ]
  },
  {
   "cell_type": "code",
   "execution_count": 51,
   "metadata": {},
   "outputs": [],
   "source": [
    "model = SARIMAX(endog=ETT_y_train_scaled, \n",
    "                            exog=ETT_X_train_scaled, \n",
    "                            order=(1, 0, 1), \n",
    "                            #trend='c', \n",
    "                            disp=True)\n",
    "model_result = model.fit(maxiter=1000, disp=True)"
   ]
  },
  {
   "cell_type": "code",
   "execution_count": 52,
   "metadata": {},
   "outputs": [],
   "source": [
    "model_result.save(f'ETT1h_SARIMAX.pickle')"
   ]
  },
  {
   "cell_type": "code",
   "execution_count": 53,
   "metadata": {},
   "outputs": [],
   "source": [
    "sliding_window = SlidingWindowDataset(np.hstack([ETT_X_val_scaled, ETT_y_val_scaled]), window_size=input_size + horizont_size, step_size=10)"
   ]
  },
  {
   "cell_type": "code",
   "execution_count": 54,
   "metadata": {},
   "outputs": [
    {
     "name": "stdout",
     "output_type": "stream",
     "text": [
      "Average MSE sarimax (scaled): 0.09351758372534076\n",
      "Average MAE sarimax (scaled): 0.23627474716599067\n",
      "Average MSE sarimax (original measure): 6.517893650044389\n",
      "Average MAE sarimax (original measure): 1.9725331177870324\n",
      "\n",
      "Average MSE naive (scaled): 0.0422863011852413\n",
      "Average MAE naive (scaled): 0.15549392903491316\n",
      "Average MSE naive (original measure): 2.947227708412915\n",
      "Average MAE naive (original measure): 1.2981367171698388\n"
     ]
    }
   ],
   "source": [
    "list_mse=[]\n",
    "list_mae=[]\n",
    "list_mse_orig_measure = []\n",
    "list_mae_orig_measure = []\n",
    "\n",
    "start = len(ETT_X_train_scaled)\n",
    "end = len(ETT_X_train_scaled) + len(ETT_X_val_scaled)\n",
    "\n",
    "list_mse_naive = []\n",
    "list_mae_naive = []\n",
    "list_mse_naive_orig_measure = []\n",
    "list_mae_naive_orig_measure = []\n",
    "\n",
    "for i in range(len(sliding_window)):\n",
    "    sample_x, sample_y = sliding_window[i][:, 0:-1], sliding_window[i][:, -1].reshape(-1, 1)\n",
    "\n",
    "    past_target = sample_y[:input_size]\n",
    "    target = sample_y[input_size:]\n",
    "    past_cov = sample_x[:input_size]\n",
    "    future_cov=sample_x[input_size:]\n",
    "\n",
    "    model_result.apply(endog=past_target, exog=past_cov)\n",
    "\n",
    "    pred = model_result.predict(exog=future_cov)\n",
    "    naive_predict = np.ones(horizont_size) * past_target[-1]\n",
    "\n",
    "    mse_orig_measure = mean_squared_error(scaler_y.inverse_transform(pred[-horizont_size:].reshape(-1, 1)), scaler_y.inverse_transform(target).reshape(-1, 1))\n",
    "    mae_orig_measure = mean_absolute_error(scaler_y.inverse_transform(pred[-horizont_size:].reshape(-1, 1)), scaler_y.inverse_transform(target).reshape(-1, 1))\n",
    "    \n",
    "    mse = mean_squared_error(pred[-horizont_size:], target)\n",
    "    mae = mean_absolute_error(pred[-horizont_size:], target)\n",
    "\n",
    "    mse_naive = mean_squared_error(naive_predict[-horizont_size:], target)\n",
    "    mae_naive = mean_absolute_error(naive_predict[-horizont_size:], target)\n",
    "\n",
    "    mse_naive_orig_measure = mean_squared_error(scaler_y.inverse_transform(naive_predict[-horizont_size:].reshape(-1, 1)), scaler_y.inverse_transform(target).reshape(-1, 1))\n",
    "    mae_naive_orig_measure = mean_absolute_error(scaler_y.inverse_transform(naive_predict[-horizont_size:].reshape(-1, 1)), scaler_y.inverse_transform(target).reshape(-1, 1))\n",
    "\n",
    "    list_mse.append(mse)\n",
    "    list_mae.append(mae)\n",
    "\n",
    "    list_mse_orig_measure.append(mse_orig_measure)\n",
    "    list_mae_orig_measure.append(mae_orig_measure)\n",
    "\n",
    "    list_mse_naive.append(mse_naive)\n",
    "    list_mae_naive.append(mae_naive)\n",
    "\n",
    "    list_mse_naive_orig_measure.append(mse_naive_orig_measure)\n",
    "    list_mae_naive_orig_measure.append(mae_naive_orig_measure)\n",
    "\n",
    "print(f'Average MSE sarimax (scaled): {sum(list_mse) / len(list_mse)}')\n",
    "print(f'Average MAE sarimax (scaled): {sum(list_mae) / len(list_mae)}')\n",
    "print(f'Average MSE sarimax (original measure): {sum(list_mse_orig_measure) / len(list_mse_orig_measure)}')\n",
    "print(f'Average MAE sarimax (original measure): {sum(list_mae_orig_measure) / len(list_mae_orig_measure)}')\n",
    "print()\n",
    "\n",
    "print(f'Average MSE naive (scaled): {sum(list_mse_naive) / len(list_mse_naive)}')\n",
    "print(f'Average MAE naive (scaled): {sum(list_mae_naive) / len(list_mae_naive)}')\n",
    "print(f'Average MSE naive (original measure): {sum(list_mse_naive_orig_measure) / len(list_mse_naive_orig_measure)}')\n",
    "print(f'Average MAE naive (original measure): {sum(list_mae_naive_orig_measure) / len(list_mae_naive_orig_measure)}')\n"
   ]
  },
  {
   "cell_type": "code",
   "execution_count": 69,
   "metadata": {},
   "outputs": [
    {
     "data": {
      "text/plain": [
       "<matplotlib.legend.Legend at 0x1db9c5d9f70>"
      ]
     },
     "execution_count": 69,
     "metadata": {},
     "output_type": "execute_result"
    },
    {
     "data": {
      "image/png": "[encoded data removed]",
      "text/plain": [
       "<Figure size 1280x480 with 1 Axes>"
      ]
     },
     "metadata": {},
     "output_type": "display_data"
    }
   ],
   "source": [
    "from matplotlib.pyplot import figure\n",
    "\n",
    "figure(figsize=(16, 6), dpi=80)\n",
    "\n",
    "plt.plot(range(len(pred[-horizont_size:])), scaler_y.inverse_transform(pred[-horizont_size:].reshape(-1, 1)), label='predicted')\n",
    "plt.plot(range(len(ETT_y_val[-horizont_size:])), ETT_y_val[-horizont_size:], label='real')\n",
    "plt.legend()"
   ]
  },
  {
   "attachments": {},
   "cell_type": "markdown",
   "metadata": {},
   "source": [
    "# Dataset 2. Electricity Consuming Load. "
   ]
  },
  {
   "cell_type": "code",
   "execution_count": 56,
   "metadata": {},
   "outputs": [],
   "source": [
    "ECL = get_Electricity_Consuming_Load_dataset()\n",
    "ECL = truncate_dataset(ECL)\n",
    "\n",
    "ECL_X, ECL_y = ECL.iloc[:, :-1], ECL.iloc[:,-1].values.reshape(-1, 1)\n",
    "\n",
    "ECL_X_train, ECL_X_test, ECL_y_train, ECL_y_test = train_test_split(ECL_X, ECL_y, test_size=0.3, shuffle=False)\n",
    "\n",
    "ECL_X_val, ECL_X_test, ECL_y_val, ECL_y_test = train_test_split(ECL_X_test, ECL_y_test, test_size=0.5, shuffle=False)\n",
    "\n",
    "scaler_x = StandardScaler()\n",
    "scaler_y = StandardScaler()\n",
    "\n",
    "ECL_X_train_scaled = scaler_x.fit_transform(ECL_X_train)\n",
    "ECL_y_train_scaled = scaler_y.fit_transform(ECL_y_train)\n",
    "\n",
    "ECL_X_val_scaled = scaler_x.transform(ECL_X_val)\n",
    "ECL_y_val_scaled = scaler_y.transform(ECL_y_val)\n",
    "\n",
    "ECL_X_test_scaled = scaler_x.transform(ECL_X_test)\n",
    "ECL_y_test_scaled = scaler_y.transform(ECL_y_test)"
   ]
  },
  {
   "attachments": {},
   "cell_type": "markdown",
   "metadata": {},
   "source": [
    "# VARMAX model"
   ]
  },
  {
   "attachments": {},
   "cell_type": "markdown",
   "metadata": {},
   "source": [
    "It is the combination of VAR and MA. VAR is the linear combination of lagged values of order 'p' and MA uses the past forecast errors of order 'q' in a regression-like mode . As like VAR, this model is also used for multile variables forecast at same time. To find the optimal parameters (p and q), we will use auto_arima() function.\n",
    "\n"
   ]
  },
  {
   "cell_type": "code",
   "execution_count": 57,
   "metadata": {},
   "outputs": [],
   "source": [
    "from statsmodels.tsa.api import SARIMAX\n",
    "\n",
    "model = SARIMAX(endog=ECL_y_train_scaled, \n",
    "                            exog=ECL_X_train_scaled, \n",
    "                            order=(1, 0, 1), \n",
    "                            #trend='c', \n",
    "                            disp=True)\n",
    "model_result = model.fit(maxiter=1000, disp=True)"
   ]
  },
  {
   "cell_type": "code",
   "execution_count": 58,
   "metadata": {},
   "outputs": [],
   "source": [
    "model_result.save(f'ECL_SARIMAX.pickle')"
   ]
  },
  {
   "cell_type": "code",
   "execution_count": 66,
   "metadata": {},
   "outputs": [],
   "source": [
    "sliding_window = SlidingWindowDataset(np.hstack([ECL_X_val_scaled, ECL_y_val_scaled]), window_size=input_size + horizont_size, step_size=10)"
   ]
  },
  {
   "cell_type": "code",
   "execution_count": 67,
   "metadata": {},
   "outputs": [
    {
     "name": "stdout",
     "output_type": "stream",
     "text": [
      "Average MSE sarimax (scaled): 11.783565250024944\n",
      "Average MAE sarimax (scaled): 2.5782608715001207\n",
      "Average MSE sarimax (original measure): 4724.590065696771\n",
      "Average MAE sarimax (original measure): 51.62624860269303\n",
      "\n",
      "Average MSE naive (scaled): 0.9108321102439373\n",
      "Average MAE naive (scaled): 0.5742032536189683\n",
      "Average MSE naive (original measure): 365.1957831325301\n",
      "Average MAE naive (original measure): 11.49765729585006\n"
     ]
    }
   ],
   "source": [
    "list_mse=[]\n",
    "list_mae=[]\n",
    "list_mse_orig_measure = []\n",
    "list_mae_orig_measure = []\n",
    "\n",
    "start = len(ECL_X_train_scaled)\n",
    "end = len(ECL_X_train_scaled) + len(ECL_X_val_scaled)\n",
    "\n",
    "list_mse_naive = []\n",
    "list_mae_naive = []\n",
    "list_mse_naive_orig_measure = []\n",
    "list_mae_naive_orig_measure = []\n",
    "\n",
    "for i in range(len(sliding_window)):\n",
    "    sample_x, sample_y = sliding_window[i][:, 0:-1], sliding_window[i][:, -1].reshape(-1, 1)\n",
    "\n",
    "    past_target = sample_y[:input_size]\n",
    "    target = sample_y[input_size:]\n",
    "    past_cov = sample_x[:input_size]\n",
    "    future_cov=sample_x[input_size:]\n",
    "\n",
    "    model_result.apply(endog=past_target, exog=past_cov)\n",
    "\n",
    "    pred = model_result.predict(exog=future_cov)\n",
    "    naive_predict = np.ones(horizont_size) * past_target[-1]\n",
    "\n",
    "    mse_orig_measure = mean_squared_error(scaler_y.inverse_transform(pred[-horizont_size:].reshape(-1, 1)), scaler_y.inverse_transform(target).reshape(-1, 1))\n",
    "    mae_orig_measure = mean_absolute_error(scaler_y.inverse_transform(pred[-horizont_size:].reshape(-1, 1)), scaler_y.inverse_transform(target).reshape(-1, 1))\n",
    "    \n",
    "    mse = mean_squared_error(pred[-horizont_size:], target)\n",
    "    mae = mean_absolute_error(pred[-horizont_size:], target)\n",
    "\n",
    "    mse_naive = mean_squared_error(naive_predict[-horizont_size:], target)\n",
    "    mae_naive = mean_absolute_error(naive_predict[-horizont_size:], target)\n",
    "\n",
    "    mse_naive_orig_measure = mean_squared_error(scaler_y.inverse_transform(naive_predict[-horizont_size:].reshape(-1, 1)), scaler_y.inverse_transform(target).reshape(-1, 1))\n",
    "    mae_naive_orig_measure = mean_absolute_error(scaler_y.inverse_transform(naive_predict[-horizont_size:].reshape(-1, 1)), scaler_y.inverse_transform(target).reshape(-1, 1))\n",
    "\n",
    "    list_mse.append(mse)\n",
    "    list_mae.append(mae)\n",
    "\n",
    "    list_mse_orig_measure.append(mse_orig_measure)\n",
    "    list_mae_orig_measure.append(mae_orig_measure)\n",
    "\n",
    "    list_mse_naive.append(mse_naive)\n",
    "    list_mae_naive.append(mae_naive)\n",
    "\n",
    "    list_mse_naive_orig_measure.append(mse_naive_orig_measure)\n",
    "    list_mae_naive_orig_measure.append(mae_naive_orig_measure)\n",
    "\n",
    "print(f'Average MSE sarimax (scaled): {sum(list_mse) / len(list_mse)}')\n",
    "print(f'Average MAE sarimax (scaled): {sum(list_mae) / len(list_mae)}')\n",
    "print(f'Average MSE sarimax (original measure): {sum(list_mse_orig_measure) / len(list_mse_orig_measure)}')\n",
    "print(f'Average MAE sarimax (original measure): {sum(list_mae_orig_measure) / len(list_mae_orig_measure)}')\n",
    "print()\n",
    "\n",
    "print(f'Average MSE naive (scaled): {sum(list_mse_naive) / len(list_mse_naive)}')\n",
    "print(f'Average MAE naive (scaled): {sum(list_mae_naive) / len(list_mae_naive)}')\n",
    "print(f'Average MSE naive (original measure): {sum(list_mse_naive_orig_measure) / len(list_mse_naive_orig_measure)}')\n",
    "print(f'Average MAE naive (original measure): {sum(list_mae_naive_orig_measure) / len(list_mae_naive_orig_measure)}')"
   ]
  },
  {
   "cell_type": "code",
   "execution_count": 68,
   "metadata": {},
   "outputs": [
    {
     "data": {
      "text/plain": [
       "<matplotlib.legend.Legend at 0x1db98698f10>"
      ]
     },
     "execution_count": 68,
     "metadata": {},
     "output_type": "execute_result"
    },
    {
     "data": {
      "image/png": "[encoded data removed]",
      "text/plain": [
       "<Figure size 1280x480 with 1 Axes>"
      ]
     },
     "metadata": {},
     "output_type": "display_data"
    }
   ],
   "source": [
    "from matplotlib.pyplot import figure\n",
    "\n",
    "figure(figsize=(16, 6), dpi=80)\n",
    "\n",
    "plt.plot(range(len(pred[-horizont_size:])), scaler_y.inverse_transform(pred[-horizont_size:].reshape(-1, 1)), label='predicted')\n",
    "plt.plot(range(len(ECL_y_val[-horizont_size:])), ECL_y_val[-horizont_size:], label='real')\n",
    "plt.legend()"
   ]
  }
 ],
 "metadata": {
  "kernelspec": {
   "display_name": "Python 3",
   "language": "python",
   "name": "python3"
  },
  "language_info": {
   "codemirror_mode": {
    "name": "ipython",
    "version": 3
   },
   "file_extension": ".py",
   "mimetype": "text/x-python",
   "name": "python",
   "nbconvert_exporter": "python",
   "pygments_lexer": "ipython3",
   "version": "3.8.6"
  },
  "orig_nbformat": 4
 },
 "nbformat": 4,
 "nbformat_minor": 2
}
